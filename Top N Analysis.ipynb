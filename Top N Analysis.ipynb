{
 "cells": [
  {
   "cell_type": "markdown",
   "id": "048cb08f",
   "metadata": {},
   "source": [
    "### Top N analysis\n",
    "The purpose of this notebook is to identify the top e-stores that contribute to the revenue of GloboSales. In addition,  top countries for GloboSales to focus on and their top e-stores are identified. For the analysis, the rows where quantity is negative have been removed "
   ]
  },
  {
   "cell_type": "code",
   "execution_count": 1,
   "id": "0b739603",
   "metadata": {},
   "outputs": [],
   "source": [
    "###Importing Libraries required\n",
    "import pandas as pd\n",
    "import numpy as np\n",
    "import datetime as dt\n",
    "import seaborn as sns\n",
    "import matplotlib.pyplot as plt\n",
    "from matplotlib.ticker import PercentFormatter\n"
   ]
  },
  {
   "cell_type": "code",
   "execution_count": 2,
   "id": "f3366c23",
   "metadata": {},
   "outputs": [],
   "source": [
    "###Path for the url at which the data is saved\n",
    "csv_url = \"https://raw.githubusercontent.com/rohithmadupu/DevoTeam_Assignment/main/ecommerce_data.csv\""
   ]
  },
  {
   "cell_type": "code",
   "execution_count": 3,
   "id": "5b44ce4c",
   "metadata": {
    "scrolled": true
   },
   "outputs": [
    {
     "data": {
      "text/html": [
       "<div>\n",
       "<style scoped>\n",
       "    .dataframe tbody tr th:only-of-type {\n",
       "        vertical-align: middle;\n",
       "    }\n",
       "\n",
       "    .dataframe tbody tr th {\n",
       "        vertical-align: top;\n",
       "    }\n",
       "\n",
       "    .dataframe thead th {\n",
       "        text-align: right;\n",
       "    }\n",
       "</style>\n",
       "<table border=\"1\" class=\"dataframe\">\n",
       "  <thead>\n",
       "    <tr style=\"text-align: right;\">\n",
       "      <th></th>\n",
       "      <th>InvoiceDate</th>\n",
       "      <th>InvoiceNo</th>\n",
       "      <th>StockCode</th>\n",
       "      <th>Description</th>\n",
       "      <th>Quantity</th>\n",
       "      <th>InvoiceDate.1</th>\n",
       "      <th>UnitPrice</th>\n",
       "      <th>CustomerID</th>\n",
       "      <th>Country</th>\n",
       "      <th>Estore_id</th>\n",
       "    </tr>\n",
       "  </thead>\n",
       "  <tbody>\n",
       "    <tr>\n",
       "      <th>0</th>\n",
       "      <td>2010-12-09 15:43:00</td>\n",
       "      <td>C538124</td>\n",
       "      <td>22699</td>\n",
       "      <td>ROSES REGENCY TEACUP AND SAUCER</td>\n",
       "      <td>-1.0</td>\n",
       "      <td>2010-12-09 15:43:00</td>\n",
       "      <td>2.95</td>\n",
       "      <td>15329.0</td>\n",
       "      <td>United Kingdom</td>\n",
       "      <td>20</td>\n",
       "    </tr>\n",
       "    <tr>\n",
       "      <th>1</th>\n",
       "      <td>2011-12-09 09:07:00</td>\n",
       "      <td>581480</td>\n",
       "      <td>23355</td>\n",
       "      <td>HOT WATER BOTTLE KEEP CALM</td>\n",
       "      <td>12.0</td>\n",
       "      <td>2011-12-09 09:07:00</td>\n",
       "      <td>4.95</td>\n",
       "      <td>14441.0</td>\n",
       "      <td>United Kingdom</td>\n",
       "      <td>20</td>\n",
       "    </tr>\n",
       "    <tr>\n",
       "      <th>2</th>\n",
       "      <td>2011-12-07 12:55:00</td>\n",
       "      <td>581132</td>\n",
       "      <td>NaN</td>\n",
       "      <td>NaN</td>\n",
       "      <td>4.0</td>\n",
       "      <td>2011-12-07 12:55:00</td>\n",
       "      <td>4.95</td>\n",
       "      <td>17590.0</td>\n",
       "      <td>United Kingdom</td>\n",
       "      <td>1</td>\n",
       "    </tr>\n",
       "    <tr>\n",
       "      <th>3</th>\n",
       "      <td>2011-06-23 14:11:00</td>\n",
       "      <td>557892</td>\n",
       "      <td>NaN</td>\n",
       "      <td>NaN</td>\n",
       "      <td>2.0</td>\n",
       "      <td>2011-06-23 14:11:00</td>\n",
       "      <td>6.35</td>\n",
       "      <td>14534.0</td>\n",
       "      <td>United Kingdom</td>\n",
       "      <td>17</td>\n",
       "    </tr>\n",
       "    <tr>\n",
       "      <th>4</th>\n",
       "      <td>2011-01-25 14:01:00</td>\n",
       "      <td>542115</td>\n",
       "      <td>84992</td>\n",
       "      <td>NaN</td>\n",
       "      <td>1.0</td>\n",
       "      <td>2011-01-25 14:01:00</td>\n",
       "      <td>2.08</td>\n",
       "      <td>NaN</td>\n",
       "      <td>United Kingdom</td>\n",
       "      <td>6</td>\n",
       "    </tr>\n",
       "  </tbody>\n",
       "</table>\n",
       "</div>"
      ],
      "text/plain": [
       "           InvoiceDate InvoiceNo StockCode                       Description  \\\n",
       "0  2010-12-09 15:43:00   C538124     22699  ROSES REGENCY TEACUP AND SAUCER    \n",
       "1  2011-12-09 09:07:00    581480     23355        HOT WATER BOTTLE KEEP CALM   \n",
       "2  2011-12-07 12:55:00    581132       NaN                               NaN   \n",
       "3  2011-06-23 14:11:00    557892       NaN                               NaN   \n",
       "4  2011-01-25 14:01:00    542115     84992                               NaN   \n",
       "\n",
       "   Quantity        InvoiceDate.1  UnitPrice  CustomerID         Country  \\\n",
       "0      -1.0  2010-12-09 15:43:00       2.95     15329.0  United Kingdom   \n",
       "1      12.0  2011-12-09 09:07:00       4.95     14441.0  United Kingdom   \n",
       "2       4.0  2011-12-07 12:55:00       4.95     17590.0  United Kingdom   \n",
       "3       2.0  2011-06-23 14:11:00       6.35     14534.0  United Kingdom   \n",
       "4       1.0  2011-01-25 14:01:00       2.08         NaN  United Kingdom   \n",
       "\n",
       "   Estore_id  \n",
       "0         20  \n",
       "1         20  \n",
       "2          1  \n",
       "3         17  \n",
       "4          6  "
      ]
     },
     "execution_count": 3,
     "metadata": {},
     "output_type": "execute_result"
    }
   ],
   "source": [
    "###reading the csv and displaying head\n",
    "df_ecomm = pd.read_csv(csv_url)\n",
    "df_ecomm.head()"
   ]
  },
  {
   "cell_type": "code",
   "execution_count": 4,
   "id": "de6a330e",
   "metadata": {},
   "outputs": [
    {
     "name": "stderr",
     "output_type": "stream",
     "text": [
      "<ipython-input-4-4dcd4a225064>:3: FutureWarning: The default value of regex will change from True to False in a future version.\n",
      "  df_ecomm[\"CustomerID\"] = df_ecomm[\"CustomerID\"].str.replace('.0', '')\n"
     ]
    }
   ],
   "source": [
    "##Converting customer Id and estore ID to string\n",
    "df_ecomm[\"CustomerID\"] = df_ecomm[\"CustomerID\"].astype(\"str\")\n",
    "df_ecomm[\"CustomerID\"] = df_ecomm[\"CustomerID\"].str.replace('.0', '')\n",
    "\n",
    "df_ecomm[\"Estore_id\"] = df_ecomm[\"Estore_id\"].astype(\"str\")"
   ]
  },
  {
   "cell_type": "code",
   "execution_count": 5,
   "id": "18a4740e",
   "metadata": {},
   "outputs": [],
   "source": [
    "####Checking if both Invoice Dates match and then removing one\n",
    "if (df_ecomm['InvoiceDate'].equals(df_ecomm['InvoiceDate.1']) == True):\n",
    "    df_ecomm = df_ecomm.drop([\"InvoiceDate.1\"], axis = 1)\n",
    "    \n",
    "###creating a datefield\n",
    "df_ecomm['Date'] = pd.to_datetime(df_ecomm.InvoiceDate,errors='coerce').dt.date\n",
    "\n",
    "df_ecomm['Year'] = pd.to_datetime(df_ecomm.InvoiceDate,errors='coerce').dt.year\n"
   ]
  },
  {
   "cell_type": "code",
   "execution_count": 6,
   "id": "6b05e197",
   "metadata": {},
   "outputs": [
    {
     "name": "stdout",
     "output_type": "stream",
     "text": [
      "InvoiceDate         0\n",
      "InvoiceNo           0\n",
      "StockCode      123354\n",
      "Description    126307\n",
      "Quantity       119574\n",
      "UnitPrice           0\n",
      "CustomerID          0\n",
      "Country             0\n",
      "Estore_id           0\n",
      "Date                0\n",
      "Year                0\n",
      "dtype: int64\n"
     ]
    }
   ],
   "source": [
    "print(df_ecomm.isnull().sum(axis=0))"
   ]
  },
  {
   "cell_type": "code",
   "execution_count": 7,
   "id": "763c046a",
   "metadata": {},
   "outputs": [],
   "source": [
    "###Removing nulls and negative values from Quantity Column from analysis \n",
    "#Could be hindering our analysis. It could be a data quality issue \n",
    "\n",
    "df_ecomm_new = df_ecomm[df_ecomm['Quantity'] >= 0]"
   ]
  },
  {
   "cell_type": "code",
   "execution_count": 8,
   "id": "5cd31cfa",
   "metadata": {},
   "outputs": [
    {
     "data": {
      "text/html": [
       "<div>\n",
       "<style scoped>\n",
       "    .dataframe tbody tr th:only-of-type {\n",
       "        vertical-align: middle;\n",
       "    }\n",
       "\n",
       "    .dataframe tbody tr th {\n",
       "        vertical-align: top;\n",
       "    }\n",
       "\n",
       "    .dataframe thead th {\n",
       "        text-align: right;\n",
       "    }\n",
       "</style>\n",
       "<table border=\"1\" class=\"dataframe\">\n",
       "  <thead>\n",
       "    <tr style=\"text-align: right;\">\n",
       "      <th></th>\n",
       "      <th>InvoiceDate</th>\n",
       "      <th>InvoiceNo</th>\n",
       "      <th>StockCode</th>\n",
       "      <th>Description</th>\n",
       "      <th>Quantity</th>\n",
       "      <th>UnitPrice</th>\n",
       "      <th>CustomerID</th>\n",
       "      <th>Country</th>\n",
       "      <th>Estore_id</th>\n",
       "      <th>Date</th>\n",
       "      <th>Year</th>\n",
       "    </tr>\n",
       "  </thead>\n",
       "  <tbody>\n",
       "    <tr>\n",
       "      <th>1</th>\n",
       "      <td>2011-12-09 09:07:00</td>\n",
       "      <td>581480</td>\n",
       "      <td>23355</td>\n",
       "      <td>HOT WATER BOTTLE KEEP CALM</td>\n",
       "      <td>12.0</td>\n",
       "      <td>4.95</td>\n",
       "      <td>14441</td>\n",
       "      <td>United Kingdom</td>\n",
       "      <td>20</td>\n",
       "      <td>2011-12-09</td>\n",
       "      <td>2011</td>\n",
       "    </tr>\n",
       "    <tr>\n",
       "      <th>2</th>\n",
       "      <td>2011-12-07 12:55:00</td>\n",
       "      <td>581132</td>\n",
       "      <td>NaN</td>\n",
       "      <td>NaN</td>\n",
       "      <td>4.0</td>\n",
       "      <td>4.95</td>\n",
       "      <td>175</td>\n",
       "      <td>United Kingdom</td>\n",
       "      <td>1</td>\n",
       "      <td>2011-12-07</td>\n",
       "      <td>2011</td>\n",
       "    </tr>\n",
       "    <tr>\n",
       "      <th>3</th>\n",
       "      <td>2011-06-23 14:11:00</td>\n",
       "      <td>557892</td>\n",
       "      <td>NaN</td>\n",
       "      <td>NaN</td>\n",
       "      <td>2.0</td>\n",
       "      <td>6.35</td>\n",
       "      <td>14534</td>\n",
       "      <td>United Kingdom</td>\n",
       "      <td>17</td>\n",
       "      <td>2011-06-23</td>\n",
       "      <td>2011</td>\n",
       "    </tr>\n",
       "    <tr>\n",
       "      <th>4</th>\n",
       "      <td>2011-01-25 14:01:00</td>\n",
       "      <td>542115</td>\n",
       "      <td>84992</td>\n",
       "      <td>NaN</td>\n",
       "      <td>1.0</td>\n",
       "      <td>2.08</td>\n",
       "      <td>nan</td>\n",
       "      <td>United Kingdom</td>\n",
       "      <td>6</td>\n",
       "      <td>2011-01-25</td>\n",
       "      <td>2011</td>\n",
       "    </tr>\n",
       "    <tr>\n",
       "      <th>5</th>\n",
       "      <td>2011-12-01 11:51:00</td>\n",
       "      <td>580024</td>\n",
       "      <td>35964</td>\n",
       "      <td>NaN</td>\n",
       "      <td>36.0</td>\n",
       "      <td>0.39</td>\n",
       "      <td>15172</td>\n",
       "      <td>United Kingdom</td>\n",
       "      <td>32</td>\n",
       "      <td>2011-12-01</td>\n",
       "      <td>2011</td>\n",
       "    </tr>\n",
       "  </tbody>\n",
       "</table>\n",
       "</div>"
      ],
      "text/plain": [
       "           InvoiceDate InvoiceNo StockCode                 Description  \\\n",
       "1  2011-12-09 09:07:00    581480     23355  HOT WATER BOTTLE KEEP CALM   \n",
       "2  2011-12-07 12:55:00    581132       NaN                         NaN   \n",
       "3  2011-06-23 14:11:00    557892       NaN                         NaN   \n",
       "4  2011-01-25 14:01:00    542115     84992                         NaN   \n",
       "5  2011-12-01 11:51:00    580024     35964                         NaN   \n",
       "\n",
       "   Quantity  UnitPrice CustomerID         Country Estore_id        Date  Year  \n",
       "1      12.0       4.95      14441  United Kingdom        20  2011-12-09  2011  \n",
       "2       4.0       4.95        175  United Kingdom         1  2011-12-07  2011  \n",
       "3       2.0       6.35      14534  United Kingdom        17  2011-06-23  2011  \n",
       "4       1.0       2.08        nan  United Kingdom         6  2011-01-25  2011  \n",
       "5      36.0       0.39      15172  United Kingdom        32  2011-12-01  2011  "
      ]
     },
     "execution_count": 8,
     "metadata": {},
     "output_type": "execute_result"
    }
   ],
   "source": [
    "df_ecomm_new.head() ### "
   ]
  },
  {
   "cell_type": "code",
   "execution_count": 9,
   "id": "817d4f00",
   "metadata": {},
   "outputs": [
    {
     "name": "stderr",
     "output_type": "stream",
     "text": [
      "<ipython-input-9-3ab5da0eaec6>:2: SettingWithCopyWarning: \n",
      "A value is trying to be set on a copy of a slice from a DataFrame.\n",
      "Try using .loc[row_indexer,col_indexer] = value instead\n",
      "\n",
      "See the caveats in the documentation: https://pandas.pydata.org/pandas-docs/stable/user_guide/indexing.html#returning-a-view-versus-a-copy\n",
      "  df_ecomm_new[\"Revenue\"] = df_ecomm_new.Quantity * df_ecomm_new.UnitPrice\n"
     ]
    }
   ],
   "source": [
    "###Creating a Revenue column\n",
    "df_ecomm_new[\"Revenue\"] = df_ecomm_new.Quantity * df_ecomm_new.UnitPrice\n"
   ]
  },
  {
   "cell_type": "code",
   "execution_count": 10,
   "id": "0e1a7a78",
   "metadata": {},
   "outputs": [],
   "source": [
    "###Revenue by EstoreId\n",
    "df_estore_rev = pd.DataFrame(df_ecomm_new.groupby([\"Estore_id\"]).agg({'Revenue': 'sum'}).reset_index())"
   ]
  },
  {
   "cell_type": "code",
   "execution_count": 11,
   "id": "87c91dfb",
   "metadata": {},
   "outputs": [
    {
     "data": {
      "image/png": "[encoded data removed]",
      "text/plain": [
       "<Figure size 1080x720 with 1 Axes>"
      ]
     },
     "metadata": {
      "needs_background": "light"
     },
     "output_type": "display_data"
    }
   ],
   "source": [
    "plt.figure(figsize = (15,10))\n",
    "\n",
    "sns.barplot(x = 'Estore_id',\n",
    "            y = 'Revenue',\n",
    "            order = df_estore_rev.sort_values(['Revenue'],ascending = False).Estore_id,\n",
    "            data = df_estore_rev,\n",
    "            palette = 'Blues_r')\n",
    " \n",
    "# Show the plot\n",
    "plt.show()\n",
    "\n",
    "###Top 5 Estores are 1,31,4,30,17"
   ]
  },
  {
   "cell_type": "code",
   "execution_count": 12,
   "id": "0dc0606f",
   "metadata": {},
   "outputs": [
    {
     "data": {
      "text/html": [
       "<div>\n",
       "<style scoped>\n",
       "    .dataframe tbody tr th:only-of-type {\n",
       "        vertical-align: middle;\n",
       "    }\n",
       "\n",
       "    .dataframe tbody tr th {\n",
       "        vertical-align: top;\n",
       "    }\n",
       "\n",
       "    .dataframe thead th {\n",
       "        text-align: right;\n",
       "    }\n",
       "</style>\n",
       "<table border=\"1\" class=\"dataframe\">\n",
       "  <thead>\n",
       "    <tr style=\"text-align: right;\">\n",
       "      <th></th>\n",
       "      <th>Revenue</th>\n",
       "      <th>cumpercentage</th>\n",
       "    </tr>\n",
       "    <tr>\n",
       "      <th>Estore_id</th>\n",
       "      <th></th>\n",
       "      <th></th>\n",
       "    </tr>\n",
       "  </thead>\n",
       "  <tbody>\n",
       "    <tr>\n",
       "      <th>1</th>\n",
       "      <td>13767.70</td>\n",
       "      <td>4.996735</td>\n",
       "    </tr>\n",
       "    <tr>\n",
       "      <th>31</th>\n",
       "      <td>12203.87</td>\n",
       "      <td>9.425907</td>\n",
       "    </tr>\n",
       "    <tr>\n",
       "      <th>4</th>\n",
       "      <td>11709.51</td>\n",
       "      <td>13.675659</td>\n",
       "    </tr>\n",
       "    <tr>\n",
       "      <th>30</th>\n",
       "      <td>11704.53</td>\n",
       "      <td>17.923604</td>\n",
       "    </tr>\n",
       "    <tr>\n",
       "      <th>7</th>\n",
       "      <td>11406.27</td>\n",
       "      <td>22.063302</td>\n",
       "    </tr>\n",
       "    <tr>\n",
       "      <th>17</th>\n",
       "      <td>11126.72</td>\n",
       "      <td>26.101541</td>\n",
       "    </tr>\n",
       "    <tr>\n",
       "      <th>12</th>\n",
       "      <td>9707.41</td>\n",
       "      <td>29.624668</td>\n",
       "    </tr>\n",
       "    <tr>\n",
       "      <th>19</th>\n",
       "      <td>9289.32</td>\n",
       "      <td>32.996057</td>\n",
       "    </tr>\n",
       "    <tr>\n",
       "      <th>8</th>\n",
       "      <td>9014.80</td>\n",
       "      <td>36.267814</td>\n",
       "    </tr>\n",
       "    <tr>\n",
       "      <th>13</th>\n",
       "      <td>9007.63</td>\n",
       "      <td>39.536969</td>\n",
       "    </tr>\n",
       "    <tr>\n",
       "      <th>6</th>\n",
       "      <td>8806.19</td>\n",
       "      <td>42.733015</td>\n",
       "    </tr>\n",
       "    <tr>\n",
       "      <th>26</th>\n",
       "      <td>8623.99</td>\n",
       "      <td>45.862934</td>\n",
       "    </tr>\n",
       "    <tr>\n",
       "      <th>29</th>\n",
       "      <td>8470.49</td>\n",
       "      <td>48.937144</td>\n",
       "    </tr>\n",
       "    <tr>\n",
       "      <th>28</th>\n",
       "      <td>8437.86</td>\n",
       "      <td>51.999511</td>\n",
       "    </tr>\n",
       "    <tr>\n",
       "      <th>22</th>\n",
       "      <td>8314.63</td>\n",
       "      <td>55.017154</td>\n",
       "    </tr>\n",
       "    <tr>\n",
       "      <th>21</th>\n",
       "      <td>8252.88</td>\n",
       "      <td>58.012386</td>\n",
       "    </tr>\n",
       "    <tr>\n",
       "      <th>20</th>\n",
       "      <td>8223.98</td>\n",
       "      <td>60.997129</td>\n",
       "    </tr>\n",
       "    <tr>\n",
       "      <th>9</th>\n",
       "      <td>8039.41</td>\n",
       "      <td>63.914886</td>\n",
       "    </tr>\n",
       "    <tr>\n",
       "      <th>32</th>\n",
       "      <td>7985.75</td>\n",
       "      <td>66.813168</td>\n",
       "    </tr>\n",
       "    <tr>\n",
       "      <th>3</th>\n",
       "      <td>7805.17</td>\n",
       "      <td>69.645911</td>\n",
       "    </tr>\n",
       "    <tr>\n",
       "      <th>11</th>\n",
       "      <td>7625.14</td>\n",
       "      <td>72.413317</td>\n",
       "    </tr>\n",
       "    <tr>\n",
       "      <th>10</th>\n",
       "      <td>7526.40</td>\n",
       "      <td>75.144886</td>\n",
       "    </tr>\n",
       "    <tr>\n",
       "      <th>25</th>\n",
       "      <td>7440.39</td>\n",
       "      <td>77.845240</td>\n",
       "    </tr>\n",
       "    <tr>\n",
       "      <th>24</th>\n",
       "      <td>7329.41</td>\n",
       "      <td>80.505315</td>\n",
       "    </tr>\n",
       "    <tr>\n",
       "      <th>14</th>\n",
       "      <td>7130.28</td>\n",
       "      <td>83.093120</td>\n",
       "    </tr>\n",
       "    <tr>\n",
       "      <th>27</th>\n",
       "      <td>7022.00</td>\n",
       "      <td>85.641626</td>\n",
       "    </tr>\n",
       "    <tr>\n",
       "      <th>15</th>\n",
       "      <td>7001.27</td>\n",
       "      <td>88.182609</td>\n",
       "    </tr>\n",
       "    <tr>\n",
       "      <th>2</th>\n",
       "      <td>6965.08</td>\n",
       "      <td>90.710458</td>\n",
       "    </tr>\n",
       "    <tr>\n",
       "      <th>5</th>\n",
       "      <td>6719.09</td>\n",
       "      <td>93.149029</td>\n",
       "    </tr>\n",
       "    <tr>\n",
       "      <th>18</th>\n",
       "      <td>6535.13</td>\n",
       "      <td>95.520835</td>\n",
       "    </tr>\n",
       "    <tr>\n",
       "      <th>23</th>\n",
       "      <td>6282.75</td>\n",
       "      <td>97.801044</td>\n",
       "    </tr>\n",
       "    <tr>\n",
       "      <th>16</th>\n",
       "      <td>6058.87</td>\n",
       "      <td>100.000000</td>\n",
       "    </tr>\n",
       "  </tbody>\n",
       "</table>\n",
       "</div>"
      ],
      "text/plain": [
       "            Revenue  cumpercentage\n",
       "Estore_id                         \n",
       "1          13767.70       4.996735\n",
       "31         12203.87       9.425907\n",
       "4          11709.51      13.675659\n",
       "30         11704.53      17.923604\n",
       "7          11406.27      22.063302\n",
       "17         11126.72      26.101541\n",
       "12          9707.41      29.624668\n",
       "19          9289.32      32.996057\n",
       "8           9014.80      36.267814\n",
       "13          9007.63      39.536969\n",
       "6           8806.19      42.733015\n",
       "26          8623.99      45.862934\n",
       "29          8470.49      48.937144\n",
       "28          8437.86      51.999511\n",
       "22          8314.63      55.017154\n",
       "21          8252.88      58.012386\n",
       "20          8223.98      60.997129\n",
       "9           8039.41      63.914886\n",
       "32          7985.75      66.813168\n",
       "3           7805.17      69.645911\n",
       "11          7625.14      72.413317\n",
       "10          7526.40      75.144886\n",
       "25          7440.39      77.845240\n",
       "24          7329.41      80.505315\n",
       "14          7130.28      83.093120\n",
       "27          7022.00      85.641626\n",
       "15          7001.27      88.182609\n",
       "2           6965.08      90.710458\n",
       "5           6719.09      93.149029\n",
       "18          6535.13      95.520835\n",
       "23          6282.75      97.801044\n",
       "16          6058.87     100.000000"
      ]
     },
     "execution_count": 12,
     "metadata": {},
     "output_type": "execute_result"
    }
   ],
   "source": [
    "df = pd.DataFrame(df_estore_rev[[\"Revenue\"]])\n",
    "df.index = df_estore_rev[\"Estore_id\"]\n",
    "df = df.sort_values(by='Revenue',ascending=False)\n",
    "df[\"cumpercentage\"] = df[\"Revenue\"].cumsum()/df[\"Revenue\"].sum()*100\n",
    "df"
   ]
  },
  {
   "cell_type": "code",
   "execution_count": 13,
   "id": "84632160",
   "metadata": {},
   "outputs": [
    {
     "data": {
      "text/plain": [
       "<Figure size 5500x4400 with 0 Axes>"
      ]
     },
     "metadata": {},
     "output_type": "display_data"
    },
    {
     "data": {
      "image/png": "[encoded data removed]",
      "text/plain": [
       "<Figure size 432x288 with 2 Axes>"
      ]
     },
     "metadata": {},
     "output_type": "display_data"
    }
   ],
   "source": [
    "fig = plt.figure(figsize=(100,80), dpi=55)\n",
    "\n",
    "fig, ax = plt.subplots()\n",
    "ax.bar(df.index, df[\"Revenue\"], color=\"C0\")\n",
    "ax2 = ax.twinx()\n",
    "ax2.plot(df.index, df[\"cumpercentage\"], color=\"C1\", marker=\"D\", ms=2)\n",
    "ax2.yaxis.set_major_formatter(PercentFormatter())\n",
    "\n",
    "ax.tick_params(axis=\"y\", colors=\"C0\")\n",
    "ax2.tick_params(axis=\"y\", colors=\"C1\")\n",
    "\n"
   ]
  },
  {
   "cell_type": "code",
   "execution_count": 14,
   "id": "e0d3d4fb",
   "metadata": {},
   "outputs": [],
   "source": [
    "###Identifyng top customers for estores 1,31,4\n",
    "df_estore_cust_rev = pd.DataFrame(df_ecomm_new.groupby([\"Estore_id\",\"CustomerID\"]).agg({'Revenue': 'sum'}).reset_index())\n",
    "\n",
    "df_estore_cust_rev = df_estore_cust_rev[df_estore_cust_rev.CustomerID != \"nan\"]"
   ]
  },
  {
   "cell_type": "code",
   "execution_count": 47,
   "id": "f56936fd",
   "metadata": {},
   "outputs": [],
   "source": [
    "###estore1\n",
    "df_es1 = (\n",
    "    pd.DataFrame(\n",
    "    df_estore_cust_rev[df_estore_cust_rev[\"Estore_id\"] == \"1\"]\n",
    "    .sort_values(by='Revenue',ascending=False)[[\"CustomerID\",\"Revenue\",\"Estore_id\"]]\n",
    "    .head(n= 10))\n",
    ")\n"
   ]
  },
  {
   "cell_type": "code",
   "execution_count": 49,
   "id": "6123a924",
   "metadata": {},
   "outputs": [
    {
     "data": {
      "image/png": "[encoded data removed]",
      "text/plain": [
       "<Figure size 720x504 with 1 Axes>"
      ]
     },
     "metadata": {
      "needs_background": "light"
     },
     "output_type": "display_data"
    }
   ],
   "source": [
    "plt.figure(figsize = (10,7))\n",
    "\n",
    "sns.barplot(x = 'CustomerID',\n",
    "            y = 'Revenue',\n",
    "            data = df_es1,\n",
    "            hue = \"Estore_id\")\n",
    " \n",
    "# Show the plot\n",
    "plt.show()\n"
   ]
  },
  {
   "cell_type": "code",
   "execution_count": 51,
   "id": "a3bc3e7a",
   "metadata": {},
   "outputs": [],
   "source": [
    "###estore2\n",
    "df_es2 = (\n",
    "    pd.DataFrame(\n",
    "    df_estore_cust_rev[df_estore_cust_rev[\"Estore_id\"] == \"31\"]\n",
    "    .sort_values(by='Revenue',ascending=False)[[\"CustomerID\",\"Revenue\",\"Estore_id\"]]\n",
    "    .head(n= 10))\n",
    ")\n",
    "\n"
   ]
  },
  {
   "cell_type": "code",
   "execution_count": 52,
   "id": "4f147ee3",
   "metadata": {},
   "outputs": [
    {
     "data": {
      "image/png": "[encoded data removed]",
      "text/plain": [
       "<Figure size 720x504 with 1 Axes>"
      ]
     },
     "metadata": {
      "needs_background": "light"
     },
     "output_type": "display_data"
    }
   ],
   "source": [
    "plt.figure(figsize = (10,7))\n",
    "\n",
    "sns.barplot(x = 'CustomerID',\n",
    "            y = 'Revenue',\n",
    "            data = df_es2,\n",
    "            hue = \"Estore_id\")\n",
    " \n",
    "# Show the plot\n",
    "plt.show()\n"
   ]
  },
  {
   "cell_type": "code",
   "execution_count": 53,
   "id": "92d066d8",
   "metadata": {},
   "outputs": [],
   "source": [
    "###estore3\n",
    "df_es3 = (\n",
    "    pd.DataFrame(\n",
    "    df_estore_cust_rev[df_estore_cust_rev[\"Estore_id\"] == \"4\"]\n",
    "    .sort_values(by='Revenue',ascending=False)[[\"CustomerID\",\"Revenue\",\"Estore_id\"]]\n",
    "    .head(n= 10))\n",
    ")\n",
    "\n"
   ]
  },
  {
   "cell_type": "code",
   "execution_count": 54,
   "id": "bd2a0bf1",
   "metadata": {},
   "outputs": [
    {
     "data": {
      "image/png": "[encoded data removed]",
      "text/plain": [
       "<Figure size 720x504 with 1 Axes>"
      ]
     },
     "metadata": {
      "needs_background": "light"
     },
     "output_type": "display_data"
    }
   ],
   "source": [
    "plt.figure(figsize = (10,7))\n",
    "\n",
    "sns.barplot(x = 'CustomerID',\n",
    "            y = 'Revenue',\n",
    "            data = df_es3,\n",
    "            hue = \"Estore_id\")\n",
    " \n",
    "# Show the plot\n",
    "plt.show()\n"
   ]
  },
  {
   "cell_type": "code",
   "execution_count": 20,
   "id": "b224f5ca",
   "metadata": {},
   "outputs": [],
   "source": [
    "###Identifyng top stocks for estores 1,31,4\n",
    "df_estore_stock_rev = pd.DataFrame(df_ecomm_new.groupby([\"Estore_id\",\"StockCode\"]).agg({'Revenue': 'sum'}).reset_index())\n",
    "df_estore_stock_rev = df_estore_stock_rev[df_estore_stock_rev.StockCode != \"nan\"]"
   ]
  },
  {
   "cell_type": "code",
   "execution_count": 56,
   "id": "815f0989",
   "metadata": {},
   "outputs": [],
   "source": [
    "##estore1\n",
    "df_es_stk1 = (\n",
    "    pd.DataFrame(\n",
    "    df_estore_stock_rev[df_estore_stock_rev[\"Estore_id\"] == \"1\"]\n",
    "    .sort_values(by='Revenue',ascending=False)[[\"StockCode\",\"Revenue\",\"Estore_id\"]]\n",
    "    .head(n= 10))\n",
    ")"
   ]
  },
  {
   "cell_type": "code",
   "execution_count": 57,
   "id": "be289bac",
   "metadata": {},
   "outputs": [
    {
     "data": {
      "image/png": "[encoded data removed]",
      "text/plain": [
       "<Figure size 720x504 with 1 Axes>"
      ]
     },
     "metadata": {
      "needs_background": "light"
     },
     "output_type": "display_data"
    }
   ],
   "source": [
    "plt.figure(figsize = (10,7))\n",
    "\n",
    "sns.barplot(x = 'StockCode',\n",
    "            y = 'Revenue',\n",
    "            data = df_es_stk1,\n",
    "            hue = \"Estore_id\")\n",
    " \n",
    "# Show the plot\n",
    "plt.show()\n"
   ]
  },
  {
   "cell_type": "code",
   "execution_count": 59,
   "id": "5f1cb93d",
   "metadata": {},
   "outputs": [],
   "source": [
    "###estore2\n",
    "df_es_stk2 = (\n",
    "    pd.DataFrame(\n",
    "    df_estore_stock_rev[df_estore_stock_rev[\"Estore_id\"] == \"31\"]\n",
    "    .sort_values(by='Revenue',ascending=False)[[\"StockCode\",\"Revenue\",\"Estore_id\"]]\n",
    "    .head(n= 10))\n",
    ")"
   ]
  },
  {
   "cell_type": "code",
   "execution_count": 61,
   "id": "8280fd0d",
   "metadata": {},
   "outputs": [
    {
     "data": {
      "image/png": "[encoded data removed]",
      "text/plain": [
       "<Figure size 720x504 with 1 Axes>"
      ]
     },
     "metadata": {
      "needs_background": "light"
     },
     "output_type": "display_data"
    }
   ],
   "source": [
    "plt.figure(figsize = (10,7))\n",
    "\n",
    "sns.barplot(x = 'StockCode',\n",
    "            y = 'Revenue',\n",
    "            data = df_es_stk2,\n",
    "            hue = \"Estore_id\")\n",
    " \n",
    "# Show the plot\n",
    "plt.show()\n"
   ]
  },
  {
   "cell_type": "code",
   "execution_count": 60,
   "id": "a67ff4c2",
   "metadata": {},
   "outputs": [],
   "source": [
    "###estore3\n",
    "df_es_stk3 = (\n",
    "    pd.DataFrame(\n",
    "    df_estore_stock_rev[df_estore_stock_rev[\"Estore_id\"] == \"4\"]\n",
    "    .sort_values(by='Revenue',ascending=False)[[\"StockCode\",\"Revenue\",\"Estore_id\"]]\n",
    "    .head(n= 10))\n",
    ")"
   ]
  },
  {
   "cell_type": "code",
   "execution_count": 62,
   "id": "2986863f",
   "metadata": {},
   "outputs": [
    {
     "data": {
      "image/png": "[encoded data removed]",
      "text/plain": [
       "<Figure size 720x504 with 1 Axes>"
      ]
     },
     "metadata": {
      "needs_background": "light"
     },
     "output_type": "display_data"
    }
   ],
   "source": [
    "plt.figure(figsize = (10,7))\n",
    "\n",
    "sns.barplot(x = 'StockCode',\n",
    "            y = 'Revenue',\n",
    "            data = df_es_stk3,\n",
    "            hue = \"Estore_id\")\n",
    " \n",
    "# Show the plot\n",
    "plt.show()\n"
   ]
  },
  {
   "cell_type": "code",
   "execution_count": 26,
   "id": "2c949ddd",
   "metadata": {},
   "outputs": [],
   "source": [
    "###Revenue by Country\n",
    "df_country_rev = pd.DataFrame(df_ecomm_new.groupby([\"Country\"]).agg({'Revenue': 'sum'}).reset_index())"
   ]
  },
  {
   "cell_type": "code",
   "execution_count": 27,
   "id": "5f4644a4",
   "metadata": {},
   "outputs": [
    {
     "data": {
      "image/png": "[encoded data removed]",
      "text/plain": [
       "<Figure size 1080x720 with 1 Axes>"
      ]
     },
     "metadata": {
      "needs_background": "light"
     },
     "output_type": "display_data"
    }
   ],
   "source": [
    "plt.figure(figsize = (15,10))\n",
    "\n",
    "sns.barplot(x = 'Country',\n",
    "            y = 'Revenue',\n",
    "            order = df_country_rev.sort_values(['Revenue'],ascending = False).Country,\n",
    "            data = df_country_rev,\n",
    "            palette = 'Blues_r')\n",
    " \n",
    "# Show the plot\n",
    "plt.show()\n",
    "\n",
    "###Top 5 Countries are UK,Germany,France,EIRE,Netherlands"
   ]
  },
  {
   "cell_type": "code",
   "execution_count": 63,
   "id": "50868ca5",
   "metadata": {},
   "outputs": [
    {
     "data": {
      "text/plain": [
       "<Figure size 1000x800 with 0 Axes>"
      ]
     },
     "metadata": {},
     "output_type": "display_data"
    },
    {
     "data": {
      "image/png": "[encoded data removed]",
      "text/plain": [
       "<Figure size 432x288 with 2 Axes>"
      ]
     },
     "metadata": {},
     "output_type": "display_data"
    }
   ],
   "source": [
    "df_cntry = pd.DataFrame(df_country_rev[[\"Revenue\"]])\n",
    "df_cntry.index = df_country_rev[\"Country\"]\n",
    "df_cntry = df_cntry.sort_values(by='Revenue',ascending=False)\n",
    "df_cntry[\"cumpercentage\"] = df_cntry[\"Revenue\"].cumsum()/df_cntry[\"Revenue\"].sum()*100\n",
    "df_cntry\n",
    "\n",
    "fig = plt.figure(figsize=(10,8), dpi=100)\n",
    "\n",
    "fig, ax = plt.subplots()\n",
    "ax.bar(df_cntry.index, df_cntry[\"Revenue\"], color=\"C0\")\n",
    "ax2 = ax.twinx()\n",
    "ax2.plot(df_cntry.index, df_cntry[\"cumpercentage\"], color=\"C1\", marker=\"D\", ms=2)\n",
    "ax2.yaxis.set_major_formatter(PercentFormatter())\n",
    "\n",
    "ax.tick_params(axis=\"y\", colors=\"C0\")\n",
    "ax2.tick_params(axis=\"y\", colors=\"C1\")\n",
    "\n",
    "plt.show()\n",
    "\n",
    "###4 Countries UK,Germany,France,EIRE are contributing to 80% revenue -> goal is to focus more on them"
   ]
  },
  {
   "cell_type": "code",
   "execution_count": 65,
   "id": "ac1cc2a8",
   "metadata": {},
   "outputs": [],
   "source": [
    "###Identifyng top 3 Estores and customers for Countries UK,Germany,France,EIRE\n",
    "df_country_estore_rev = pd.DataFrame(df_ecomm_new.groupby([\"Country\",\"Estore_id\"]).agg({'Revenue': 'sum'}).reset_index())"
   ]
  },
  {
   "cell_type": "code",
   "execution_count": 66,
   "id": "5f1a46a7",
   "metadata": {},
   "outputs": [],
   "source": [
    "####Identifying top e-stores associated with each country\n",
    "###United Kingdom\n",
    "df_uk_estore = (\n",
    "    pd.DataFrame(\n",
    "    df_country_estore_rev[df_country_estore_rev[\"Country\"] == \"United Kingdom\"]\n",
    "    .sort_values(by='Revenue',ascending=False)[[\"Country\",\"Revenue\",\"Estore_id\"]]\n",
    "    .head(n= 10))\n",
    ")"
   ]
  },
  {
   "cell_type": "code",
   "execution_count": 67,
   "id": "bff79d4e",
   "metadata": {},
   "outputs": [
    {
     "data": {
      "image/png": "[encoded data removed]",
      "text/plain": [
       "<Figure size 720x504 with 1 Axes>"
      ]
     },
     "metadata": {
      "needs_background": "light"
     },
     "output_type": "display_data"
    }
   ],
   "source": [
    "plt.figure(figsize = (10,7))\n",
    "\n",
    "sns.barplot(x = 'Estore_id',\n",
    "            y = 'Revenue',\n",
    "            data = df_uk_estore,\n",
    "            hue = \"Country\")\n",
    " \n",
    "# Show the plot\n",
    "plt.show()\n"
   ]
  },
  {
   "cell_type": "code",
   "execution_count": 68,
   "id": "6ab8722e",
   "metadata": {},
   "outputs": [],
   "source": [
    "##Germany\n",
    "df_de_estore = (\n",
    "    pd.DataFrame(\n",
    "    df_country_estore_rev[df_country_estore_rev[\"Country\"] == \"Germany\"]\n",
    "    .sort_values(by='Revenue',ascending=False)[[\"Country\",\"Revenue\",\"Estore_id\"]]\n",
    "    .head(n= 10))\n",
    ")"
   ]
  },
  {
   "cell_type": "code",
   "execution_count": 69,
   "id": "ef20dd1b",
   "metadata": {},
   "outputs": [
    {
     "data": {
      "image/png": "[encoded data removed]",
      "text/plain": [
       "<Figure size 720x504 with 1 Axes>"
      ]
     },
     "metadata": {
      "needs_background": "light"
     },
     "output_type": "display_data"
    }
   ],
   "source": [
    "plt.figure(figsize = (10,7))\n",
    "\n",
    "sns.barplot(x = 'Estore_id',\n",
    "            y = 'Revenue',\n",
    "            data = df_de_estore,\n",
    "            hue = \"Country\")\n",
    " \n",
    "# Show the plot\n",
    "plt.show()\n"
   ]
  },
  {
   "cell_type": "code",
   "execution_count": 70,
   "id": "c10d42fa",
   "metadata": {},
   "outputs": [],
   "source": [
    "\n",
    "###France\n",
    "df_fr_estore = (\n",
    "    pd.DataFrame(\n",
    "    df_country_estore_rev[df_country_estore_rev[\"Country\"] == \"France\"]\n",
    "    .sort_values(by='Revenue',ascending=False)[[\"Country\",\"Revenue\",\"Estore_id\"]]\n",
    "    .head(n= 10))\n",
    ")"
   ]
  },
  {
   "cell_type": "code",
   "execution_count": 71,
   "id": "e99fea27",
   "metadata": {},
   "outputs": [
    {
     "data": {
      "image/png": "[encoded data removed]",
      "text/plain": [
       "<Figure size 720x504 with 1 Axes>"
      ]
     },
     "metadata": {
      "needs_background": "light"
     },
     "output_type": "display_data"
    }
   ],
   "source": [
    "plt.figure(figsize = (10,7))\n",
    "\n",
    "sns.barplot(x = 'Estore_id',\n",
    "            y = 'Revenue',\n",
    "            data = df_fr_estore,\n",
    "            hue = \"Country\")\n",
    " \n",
    "# Show the plot\n",
    "plt.show()\n"
   ]
  },
  {
   "cell_type": "code",
   "execution_count": 72,
   "id": "b4feebdd",
   "metadata": {},
   "outputs": [],
   "source": [
    "\n",
    "###EIRE\n",
    "df_ir_estore = (\n",
    "    pd.DataFrame(\n",
    "    df_country_estore_rev[df_country_estore_rev[\"Country\"] == \"EIRE\"]\n",
    "    .sort_values(by='Revenue',ascending=False)[[\"Country\",\"Revenue\",\"Estore_id\"]]\n",
    "    .head(n= 10))\n",
    ")"
   ]
  },
  {
   "cell_type": "code",
   "execution_count": 73,
   "id": "8d3651de",
   "metadata": {},
   "outputs": [
    {
     "data": {
      "image/png": "[encoded data removed]",
      "text/plain": [
       "<Figure size 720x504 with 1 Axes>"
      ]
     },
     "metadata": {
      "needs_background": "light"
     },
     "output_type": "display_data"
    }
   ],
   "source": [
    "plt.figure(figsize = (10,7))\n",
    "\n",
    "sns.barplot(x = 'Estore_id',\n",
    "            y = 'Revenue',\n",
    "            data = df_ir_estore,\n",
    "            hue = \"Country\")\n",
    " \n",
    "# Show the plot\n",
    "plt.show()\n"
   ]
  }
 ],
 "metadata": {
  "kernelspec": {
   "display_name": "Python 3",
   "language": "python",
   "name": "python3"
  },
  "language_info": {
   "codemirror_mode": {
    "name": "ipython",
    "version": 3
   },
   "file_extension": ".py",
   "mimetype": "text/x-python",
   "name": "python",
   "nbconvert_exporter": "python",
   "pygments_lexer": "ipython3",
   "version": "3.8.8"
  }
 },
 "nbformat": 4,
 "nbformat_minor": 5
}
